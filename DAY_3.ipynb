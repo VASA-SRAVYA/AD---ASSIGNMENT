{
  "nbformat": 4,
  "nbformat_minor": 0,
  "metadata": {
    "colab": {
      "provenance": []
    },
    "kernelspec": {
      "name": "python3",
      "display_name": "Python 3"
    },
    "language_info": {
      "name": "python"
    }
  },
  "cells": [
    {
      "cell_type": "code",
      "execution_count": 1,
      "metadata": {
        "id": "8e7THb6rm9Jl"
      },
      "outputs": [],
      "source": [
        "#DAY 3"
      ]
    },
    {
      "cell_type": "code",
      "source": [
        "#Write a Python program that takes a student's marks in three subjects as input.\n",
        "#If the average is greater than or equal to 90, print \"Grade: A\".\n",
        "#If the average is between 80 and 89, print \"Grade: B\".\n",
        "#If the average is between 70 and 79, print \"Grade: C\".\n",
        "#Otherwise, print \"Grade: Fail\".\n"
      ],
      "metadata": {
        "id": "MpXQLUoQnGrJ"
      },
      "execution_count": 2,
      "outputs": []
    },
    {
      "cell_type": "code",
      "source": [
        "def calculate_grade():\n",
        "    marks = []\n",
        "    for i in range(1, 4):\n",
        "        mark = float(input(f\"Enter marks for subject {i}: \"))\n",
        "        marks.append(mark)\n",
        "\n",
        "    average = sum(marks) / len(marks)\n",
        "\n",
        "    if average >= 90:\n",
        "        grade = \"A\"\n",
        "    elif 80 <= average < 90:\n",
        "        grade = \"B\"\n",
        "    elif 70 <= average < 80:\n",
        "        grade = \"C\"\n",
        "    else:\n",
        "        grade = \"Fail\"\n",
        "\n",
        "    print(f\"Grade: {grade}\")\n",
        "\n",
        "calculate_grade()\n"
      ],
      "metadata": {
        "colab": {
          "base_uri": "https://localhost:8080/"
        },
        "id": "QO91xiq4nTs8",
        "outputId": "1a7d8470-7da2-47dc-e790-fe3c74a7a48f"
      },
      "execution_count": 3,
      "outputs": [
        {
          "output_type": "stream",
          "name": "stdout",
          "text": [
            "Enter marks for subject 1: 88\n",
            "Enter marks for subject 2: 98\n",
            "Enter marks for subject 3: 99\n",
            "Grade: A\n"
          ]
        }
      ]
    },
    {
      "cell_type": "code",
      "source": [],
      "metadata": {
        "id": "-WQw_7ZCnuZy"
      },
      "execution_count": null,
      "outputs": []
    }
  ]
}