{
  "nbformat": 4,
  "nbformat_minor": 0,
  "metadata": {
    "colab": {
      "provenance": []
    },
    "kernelspec": {
      "name": "python3",
      "display_name": "Python 3"
    },
    "language_info": {
      "name": "python"
    }
  },
  "cells": [
    {
      "cell_type": "code",
      "execution_count": 1,
      "metadata": {
        "id": "h4ZQ3VpXL95u"
      },
      "outputs": [],
      "source": [
        "# DAY 2"
      ]
    },
    {
      "cell_type": "code",
      "source": [
        "#Create a List, tuple and Dictionary with 5 elements in it and how to access few elements based on the index. Try  with different examples"
      ],
      "metadata": {
        "id": "jAF1FXOdMCjf"
      },
      "execution_count": 2,
      "outputs": []
    },
    {
      "cell_type": "code",
      "source": [
        "# List of popular programming languages\n",
        "languages = [\"Python\", \"Java\", \"C++\", \"JavaScript\", \"Ruby\"]\n",
        "\n",
        "# Access elements based on index\n",
        "print(\"List Example (Programming Languages):\")\n",
        "print(f\"First language: {languages[0]}\")       # Accessing the first element\n",
        "print(f\"Third language: {languages[2]}\")      # Accessing the third element\n",
        "print(f\"Last language: {languages[-1]}\")      # Accessing the last element\n",
        "print(f\"Slice (2nd to 4th): {languages[1:4]}\")  # Slicing from 2nd to 4th element\n"
      ],
      "metadata": {
        "colab": {
          "base_uri": "https://localhost:8080/"
        },
        "id": "QV7Lgh3xMbCY",
        "outputId": "bd4ccf95-20d1-4068-9d61-eb54a85a53ea"
      },
      "execution_count": 3,
      "outputs": [
        {
          "output_type": "stream",
          "name": "stdout",
          "text": [
            "List Example (Programming Languages):\n",
            "First language: Python\n",
            "Third language: C++\n",
            "Last language: Ruby\n",
            "Slice (2nd to 4th): ['Java', 'C++', 'JavaScript']\n"
          ]
        }
      ]
    },
    {
      "cell_type": "code",
      "source": [
        "# Tuple of common data types in programming\n",
        "data_types = (\"int\", \"float\", \"string\", \"boolean\", \"list\")\n",
        "\n",
        "# Access elements based on index\n",
        "print(\"Tuple Example (Data Types):\")\n",
        "print(f\"First data type: {data_types[0]}\")     # Accessing the first element\n",
        "print(f\"Second data type: {data_types[1]}\")    # Accessing the second element\n",
        "print(f\"Last data type: {data_types[-1]}\")     # Accessing the last element\n",
        "print(f\"Slice (1st to 3rd): {data_types[0:3]}\")  # Slicing first three elements\n"
      ],
      "metadata": {
        "colab": {
          "base_uri": "https://localhost:8080/"
        },
        "id": "-papiHxwMcCr",
        "outputId": "c3579e9b-0397-4585-9330-abdf8523c6d6"
      },
      "execution_count": 4,
      "outputs": [
        {
          "output_type": "stream",
          "name": "stdout",
          "text": [
            "Tuple Example (Data Types):\n",
            "First data type: int\n",
            "Second data type: float\n",
            "Last data type: list\n",
            "Slice (1st to 3rd): ('int', 'float', 'string')\n"
          ]
        }
      ]
    },
    {
      "cell_type": "code",
      "source": [
        "# Creating a dictionary with 5 elements\n",
        "my_dict = {\n",
        "    'name': 'John',\n",
        "    'age': 30,\n",
        "    'country': 'USA',\n",
        "    'profession': 'Teacher',\n",
        "    'hobby': 'Cycling'\n",
        "}\n",
        "\n",
        "# Access elements based on key\n",
        "print(\"Dictionary Example:\")\n",
        "print(f\"Value for key 'name': {my_dict['name']}\")   # Accessing value for 'name'\n",
        "print(f\"Value for key 'age': {my_dict['age']}\")     # Accessing value for 'age'\n",
        "print(f\"Value for key 'hobby': {my_dict['hobby']}\") # Accessing value for 'hobby'\n"
      ],
      "metadata": {
        "colab": {
          "base_uri": "https://localhost:8080/"
        },
        "id": "M5pnP5qUMeOi",
        "outputId": "70a9f328-9c54-48e6-add8-a4b65e662411"
      },
      "execution_count": 5,
      "outputs": [
        {
          "output_type": "stream",
          "name": "stdout",
          "text": [
            "Dictionary Example:\n",
            "Value for key 'name': John\n",
            "Value for key 'age': 30\n",
            "Value for key 'hobby': Cycling\n"
          ]
        }
      ]
    },
    {
      "cell_type": "code",
      "source": [],
      "metadata": {
        "id": "HR3aCjv2MhAi"
      },
      "execution_count": null,
      "outputs": []
    }
  ]
}