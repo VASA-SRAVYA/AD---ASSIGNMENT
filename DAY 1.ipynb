{
 "cells": [
  {
   "cell_type": "markdown",
   "id": "1abe93f8-4e44-4c35-bef4-ebacc0f8263d",
   "metadata": {},
   "source": [
    "DAY 1"
   ]
  },
  {
   "cell_type": "markdown",
   "id": "92ed517e-ba76-41a2-8e64-ed11eac4dec8",
   "metadata": {},
   "source": [
    "#1. Jupyter Notebook and Data Types\n",
    "Write a program in Jupyter Notebook to declare variables of different data types (integer, float, string, and boolean). Print each variable and its type.\n"
   ]
  },
  {
   "cell_type": "code",
   "execution_count": 3,
   "id": "39937503-c9ca-47a4-a109-fbfe5453b3a5",
   "metadata": {},
   "outputs": [
    {
     "name": "stdout",
     "output_type": "stream",
     "text": [
      "Integer variable: 10 | Type: <class 'int'>\n",
      "Float variable: 3.14 | Type: <class 'float'>\n",
      "String variable: Hello, World! | Type: <class 'str'>\n",
      "Boolean variable: True | Type: <class 'bool'>\n"
     ]
    }
   ],
   "source": [
    "integer_variable = 10          # Integer\n",
    "float_variable = 3.14          # Float\n",
    "string_variable = \"Hello, World!\"  # String\n",
    "boolean_variable = True         # Boolean\n",
    "\n",
    "print(\"Integer variable:\", integer_variable, \"| Type:\", type(integer_variable))\n",
    "print(\"Float variable:\", float_variable, \"| Type:\", type(float_variable))\n",
    "print(\"String variable:\", string_variable, \"| Type:\", type(string_variable))\n",
    "print(\"Boolean variable:\", boolean_variable, \"| Type:\", type(boolean_variable))\n"
   ]
  },
  {
   "cell_type": "code",
   "execution_count": null,
   "id": "e61e3fbc-3cc3-4e82-a071-f6984cc8bc94",
   "metadata": {},
   "outputs": [],
   "source": []
  }
 ],
 "metadata": {
  "kernelspec": {
   "display_name": "Python 3 (ipykernel)",
   "language": "python",
   "name": "python3"
  },
  "language_info": {
   "codemirror_mode": {
    "name": "ipython",
    "version": 3
   },
   "file_extension": ".py",
   "mimetype": "text/x-python",
   "name": "python",
   "nbconvert_exporter": "python",
   "pygments_lexer": "ipython3",
   "version": "3.12.7"
  }
 },
 "nbformat": 4,
 "nbformat_minor": 5
}
